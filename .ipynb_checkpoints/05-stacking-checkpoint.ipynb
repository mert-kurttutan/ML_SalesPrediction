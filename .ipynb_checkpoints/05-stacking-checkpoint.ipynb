{
 "cells": [
  {
   "cell_type": "markdown",
   "id": "f10dbf29-0dab-40f0-9061-a45fc72c3da1",
   "metadata": {},
   "source": [
    "# Stacking"
   ]
  },
  {
   "cell_type": "markdown",
   "id": "126a82c1-8429-4ab8-95ec-c3724591f496",
   "metadata": {},
   "source": [
    "Below, we will implement stacking that consists of 2 levels:\n",
    "- 1st level: Linear Regression, Boosted Tree, RandomForest\n",
    "- 2nd Level: Random Forest"
   ]
  },
  {
   "cell_type": "code",
   "execution_count": 1,
   "id": "b3aa7d89-73d6-4df3-9f7c-c3bf9562bea0",
   "metadata": {},
   "outputs": [],
   "source": [
    "import pandas as pd\n",
    "import numpy as np\n",
    "import sklearn as sk\n",
    "import gc\n",
    "import seaborn as sns\n",
    "import matplotlib.pyplot as plt\n",
    "import re\n",
    "import optuna\n",
    "import joblib\n",
    "\n",
    "\n",
    "\n",
    "# ML Models\n",
    "import lightgbm as lgb\n",
    "from sklearn.linear_model import LinearRegression\n",
    "from sklearn.ensemble import RandomForestRegressor\n",
    "\n",
    "from sklearn.metrics import r2_score\n",
    "from tqdm import tqdm_notebook\n",
    "from sklearn.metrics import mean_squared_error\n",
    "from utils import split_time_series\n",
    "from sklearn.preprocessing import MinMaxScaler\n",
    "\n",
    "pd.set_option('display.max_rows', 600)\n",
    "pd.set_option('display.max_columns', 50)\n"
   ]
  },
  {
   "cell_type": "code",
   "execution_count": 2,
   "id": "0b9fcbe3-0572-4c10-b47e-d850ab77faed",
   "metadata": {},
   "outputs": [],
   "source": [
    "# Read data from the preprocessed data\n",
    "data_sales = pd.read_pickle('data/data_sales_01.pickle')"
   ]
  },
  {
   "cell_type": "code",
   "execution_count": 3,
   "id": "d0429e43-ff21-41f0-9938-b4aac859f32a",
   "metadata": {},
   "outputs": [
    {
     "data": {
      "text/html": [
       "<div>\n",
       "<style scoped>\n",
       "    .dataframe tbody tr th:only-of-type {\n",
       "        vertical-align: middle;\n",
       "    }\n",
       "\n",
       "    .dataframe tbody tr th {\n",
       "        vertical-align: top;\n",
       "    }\n",
       "\n",
       "    .dataframe thead th {\n",
       "        text-align: right;\n",
       "    }\n",
       "</style>\n",
       "<table border=\"1\" class=\"dataframe\">\n",
       "  <thead>\n",
       "    <tr style=\"text-align: right;\">\n",
       "      <th></th>\n",
       "      <th>date_block_num</th>\n",
       "      <th>shop_id</th>\n",
       "      <th>item_id</th>\n",
       "      <th>target</th>\n",
       "      <th>item_category_id</th>\n",
       "      <th>name2</th>\n",
       "      <th>name3</th>\n",
       "      <th>city</th>\n",
       "      <th>type</th>\n",
       "      <th>subtype</th>\n",
       "      <th>target_lag_1</th>\n",
       "      <th>target_lag_2</th>\n",
       "      <th>target_lag_3</th>\n",
       "      <th>target_lag_6</th>\n",
       "      <th>target_lag_12</th>\n",
       "      <th>target_mean_month_lag_1</th>\n",
       "      <th>target_mean_month_lag_2</th>\n",
       "      <th>target_mean_month_lag_3</th>\n",
       "      <th>target_mean_month_lag_6</th>\n",
       "      <th>target_mean_month_lag_12</th>\n",
       "      <th>target_shop_mean_lag_1</th>\n",
       "      <th>target_shop_mean_lag_2</th>\n",
       "      <th>target_shop_mean_lag_3</th>\n",
       "      <th>target_shop_mean_lag_12</th>\n",
       "      <th>target_category_mean_lag_1</th>\n",
       "      <th>target_category_mean_lag_2</th>\n",
       "      <th>target_category_mean_lag_3</th>\n",
       "      <th>target_category_mean_lag_12</th>\n",
       "      <th>target_item_mean_lag_1</th>\n",
       "      <th>target_item_mean_lag_2</th>\n",
       "      <th>target_item_mean_lag_3</th>\n",
       "      <th>target_city_mean_lag_1</th>\n",
       "      <th>target_city_mean_lag_2</th>\n",
       "      <th>target_type_mean_lag_1</th>\n",
       "      <th>month</th>\n",
       "      <th>days</th>\n",
       "      <th>weekends</th>\n",
       "      <th>price_fluct_lag</th>\n",
       "    </tr>\n",
       "  </thead>\n",
       "  <tbody>\n",
       "    <tr>\n",
       "      <th>0</th>\n",
       "      <td>0</td>\n",
       "      <td>2</td>\n",
       "      <td>19</td>\n",
       "      <td>0.0</td>\n",
       "      <td>40</td>\n",
       "      <td>4</td>\n",
       "      <td>42</td>\n",
       "      <td>0</td>\n",
       "      <td>11</td>\n",
       "      <td>4</td>\n",
       "      <td>NaN</td>\n",
       "      <td>NaN</td>\n",
       "      <td>NaN</td>\n",
       "      <td>NaN</td>\n",
       "      <td>NaN</td>\n",
       "      <td>NaN</td>\n",
       "      <td>NaN</td>\n",
       "      <td>NaN</td>\n",
       "      <td>NaN</td>\n",
       "      <td>NaN</td>\n",
       "      <td>NaN</td>\n",
       "      <td>NaN</td>\n",
       "      <td>NaN</td>\n",
       "      <td>NaN</td>\n",
       "      <td>NaN</td>\n",
       "      <td>NaN</td>\n",
       "      <td>NaN</td>\n",
       "      <td>NaN</td>\n",
       "      <td>NaN</td>\n",
       "      <td>NaN</td>\n",
       "      <td>NaN</td>\n",
       "      <td>NaN</td>\n",
       "      <td>NaN</td>\n",
       "      <td>NaN</td>\n",
       "      <td>0</td>\n",
       "      <td>31</td>\n",
       "      <td>8</td>\n",
       "      <td>0.0</td>\n",
       "    </tr>\n",
       "    <tr>\n",
       "      <th>1</th>\n",
       "      <td>0</td>\n",
       "      <td>2</td>\n",
       "      <td>27</td>\n",
       "      <td>1.0</td>\n",
       "      <td>19</td>\n",
       "      <td>76</td>\n",
       "      <td>42</td>\n",
       "      <td>0</td>\n",
       "      <td>5</td>\n",
       "      <td>10</td>\n",
       "      <td>NaN</td>\n",
       "      <td>NaN</td>\n",
       "      <td>NaN</td>\n",
       "      <td>NaN</td>\n",
       "      <td>NaN</td>\n",
       "      <td>NaN</td>\n",
       "      <td>NaN</td>\n",
       "      <td>NaN</td>\n",
       "      <td>NaN</td>\n",
       "      <td>NaN</td>\n",
       "      <td>NaN</td>\n",
       "      <td>NaN</td>\n",
       "      <td>NaN</td>\n",
       "      <td>NaN</td>\n",
       "      <td>NaN</td>\n",
       "      <td>NaN</td>\n",
       "      <td>NaN</td>\n",
       "      <td>NaN</td>\n",
       "      <td>NaN</td>\n",
       "      <td>NaN</td>\n",
       "      <td>NaN</td>\n",
       "      <td>NaN</td>\n",
       "      <td>NaN</td>\n",
       "      <td>NaN</td>\n",
       "      <td>0</td>\n",
       "      <td>31</td>\n",
       "      <td>8</td>\n",
       "      <td>0.0</td>\n",
       "    </tr>\n",
       "    <tr>\n",
       "      <th>2</th>\n",
       "      <td>0</td>\n",
       "      <td>2</td>\n",
       "      <td>28</td>\n",
       "      <td>0.0</td>\n",
       "      <td>30</td>\n",
       "      <td>107</td>\n",
       "      <td>42</td>\n",
       "      <td>0</td>\n",
       "      <td>8</td>\n",
       "      <td>55</td>\n",
       "      <td>NaN</td>\n",
       "      <td>NaN</td>\n",
       "      <td>NaN</td>\n",
       "      <td>NaN</td>\n",
       "      <td>NaN</td>\n",
       "      <td>NaN</td>\n",
       "      <td>NaN</td>\n",
       "      <td>NaN</td>\n",
       "      <td>NaN</td>\n",
       "      <td>NaN</td>\n",
       "      <td>NaN</td>\n",
       "      <td>NaN</td>\n",
       "      <td>NaN</td>\n",
       "      <td>NaN</td>\n",
       "      <td>NaN</td>\n",
       "      <td>NaN</td>\n",
       "      <td>NaN</td>\n",
       "      <td>NaN</td>\n",
       "      <td>NaN</td>\n",
       "      <td>NaN</td>\n",
       "      <td>NaN</td>\n",
       "      <td>NaN</td>\n",
       "      <td>NaN</td>\n",
       "      <td>NaN</td>\n",
       "      <td>0</td>\n",
       "      <td>31</td>\n",
       "      <td>8</td>\n",
       "      <td>0.0</td>\n",
       "    </tr>\n",
       "    <tr>\n",
       "      <th>3</th>\n",
       "      <td>0</td>\n",
       "      <td>2</td>\n",
       "      <td>29</td>\n",
       "      <td>0.0</td>\n",
       "      <td>23</td>\n",
       "      <td>123</td>\n",
       "      <td>42</td>\n",
       "      <td>0</td>\n",
       "      <td>5</td>\n",
       "      <td>16</td>\n",
       "      <td>NaN</td>\n",
       "      <td>NaN</td>\n",
       "      <td>NaN</td>\n",
       "      <td>NaN</td>\n",
       "      <td>NaN</td>\n",
       "      <td>NaN</td>\n",
       "      <td>NaN</td>\n",
       "      <td>NaN</td>\n",
       "      <td>NaN</td>\n",
       "      <td>NaN</td>\n",
       "      <td>NaN</td>\n",
       "      <td>NaN</td>\n",
       "      <td>NaN</td>\n",
       "      <td>NaN</td>\n",
       "      <td>NaN</td>\n",
       "      <td>NaN</td>\n",
       "      <td>NaN</td>\n",
       "      <td>NaN</td>\n",
       "      <td>NaN</td>\n",
       "      <td>NaN</td>\n",
       "      <td>NaN</td>\n",
       "      <td>NaN</td>\n",
       "      <td>NaN</td>\n",
       "      <td>NaN</td>\n",
       "      <td>0</td>\n",
       "      <td>31</td>\n",
       "      <td>8</td>\n",
       "      <td>0.0</td>\n",
       "    </tr>\n",
       "    <tr>\n",
       "      <th>4</th>\n",
       "      <td>0</td>\n",
       "      <td>2</td>\n",
       "      <td>32</td>\n",
       "      <td>0.0</td>\n",
       "      <td>40</td>\n",
       "      <td>4</td>\n",
       "      <td>42</td>\n",
       "      <td>0</td>\n",
       "      <td>11</td>\n",
       "      <td>4</td>\n",
       "      <td>NaN</td>\n",
       "      <td>NaN</td>\n",
       "      <td>NaN</td>\n",
       "      <td>NaN</td>\n",
       "      <td>NaN</td>\n",
       "      <td>NaN</td>\n",
       "      <td>NaN</td>\n",
       "      <td>NaN</td>\n",
       "      <td>NaN</td>\n",
       "      <td>NaN</td>\n",
       "      <td>NaN</td>\n",
       "      <td>NaN</td>\n",
       "      <td>NaN</td>\n",
       "      <td>NaN</td>\n",
       "      <td>NaN</td>\n",
       "      <td>NaN</td>\n",
       "      <td>NaN</td>\n",
       "      <td>NaN</td>\n",
       "      <td>NaN</td>\n",
       "      <td>NaN</td>\n",
       "      <td>NaN</td>\n",
       "      <td>NaN</td>\n",
       "      <td>NaN</td>\n",
       "      <td>NaN</td>\n",
       "      <td>0</td>\n",
       "      <td>31</td>\n",
       "      <td>8</td>\n",
       "      <td>0.0</td>\n",
       "    </tr>\n",
       "  </tbody>\n",
       "</table>\n",
       "</div>"
      ],
      "text/plain": [
       "   date_block_num  shop_id  item_id  target  item_category_id  name2  name3  \\\n",
       "0               0        2       19     0.0                40      4     42   \n",
       "1               0        2       27     1.0                19     76     42   \n",
       "2               0        2       28     0.0                30    107     42   \n",
       "3               0        2       29     0.0                23    123     42   \n",
       "4               0        2       32     0.0                40      4     42   \n",
       "\n",
       "   city  type  subtype  target_lag_1  target_lag_2  target_lag_3  \\\n",
       "0     0    11        4           NaN           NaN           NaN   \n",
       "1     0     5       10           NaN           NaN           NaN   \n",
       "2     0     8       55           NaN           NaN           NaN   \n",
       "3     0     5       16           NaN           NaN           NaN   \n",
       "4     0    11        4           NaN           NaN           NaN   \n",
       "\n",
       "   target_lag_6  target_lag_12  target_mean_month_lag_1  \\\n",
       "0           NaN            NaN                      NaN   \n",
       "1           NaN            NaN                      NaN   \n",
       "2           NaN            NaN                      NaN   \n",
       "3           NaN            NaN                      NaN   \n",
       "4           NaN            NaN                      NaN   \n",
       "\n",
       "   target_mean_month_lag_2  target_mean_month_lag_3  target_mean_month_lag_6  \\\n",
       "0                      NaN                      NaN                      NaN   \n",
       "1                      NaN                      NaN                      NaN   \n",
       "2                      NaN                      NaN                      NaN   \n",
       "3                      NaN                      NaN                      NaN   \n",
       "4                      NaN                      NaN                      NaN   \n",
       "\n",
       "   target_mean_month_lag_12  target_shop_mean_lag_1  target_shop_mean_lag_2  \\\n",
       "0                       NaN                     NaN                     NaN   \n",
       "1                       NaN                     NaN                     NaN   \n",
       "2                       NaN                     NaN                     NaN   \n",
       "3                       NaN                     NaN                     NaN   \n",
       "4                       NaN                     NaN                     NaN   \n",
       "\n",
       "   target_shop_mean_lag_3  target_shop_mean_lag_12  \\\n",
       "0                     NaN                      NaN   \n",
       "1                     NaN                      NaN   \n",
       "2                     NaN                      NaN   \n",
       "3                     NaN                      NaN   \n",
       "4                     NaN                      NaN   \n",
       "\n",
       "   target_category_mean_lag_1  target_category_mean_lag_2  \\\n",
       "0                         NaN                         NaN   \n",
       "1                         NaN                         NaN   \n",
       "2                         NaN                         NaN   \n",
       "3                         NaN                         NaN   \n",
       "4                         NaN                         NaN   \n",
       "\n",
       "   target_category_mean_lag_3  target_category_mean_lag_12  \\\n",
       "0                         NaN                          NaN   \n",
       "1                         NaN                          NaN   \n",
       "2                         NaN                          NaN   \n",
       "3                         NaN                          NaN   \n",
       "4                         NaN                          NaN   \n",
       "\n",
       "   target_item_mean_lag_1  target_item_mean_lag_2  target_item_mean_lag_3  \\\n",
       "0                     NaN                     NaN                     NaN   \n",
       "1                     NaN                     NaN                     NaN   \n",
       "2                     NaN                     NaN                     NaN   \n",
       "3                     NaN                     NaN                     NaN   \n",
       "4                     NaN                     NaN                     NaN   \n",
       "\n",
       "   target_city_mean_lag_1  target_city_mean_lag_2  target_type_mean_lag_1  \\\n",
       "0                     NaN                     NaN                     NaN   \n",
       "1                     NaN                     NaN                     NaN   \n",
       "2                     NaN                     NaN                     NaN   \n",
       "3                     NaN                     NaN                     NaN   \n",
       "4                     NaN                     NaN                     NaN   \n",
       "\n",
       "   month  days  weekends  price_fluct_lag  \n",
       "0      0    31         8              0.0  \n",
       "1      0    31         8              0.0  \n",
       "2      0    31         8              0.0  \n",
       "3      0    31         8              0.0  \n",
       "4      0    31         8              0.0  "
      ]
     },
     "execution_count": 3,
     "metadata": {},
     "output_type": "execute_result"
    }
   ],
   "source": [
    "data_sales.head()"
   ]
  },
  {
   "cell_type": "markdown",
   "id": "5a1f130d-e8ee-4642-93e3-9491537ae468",
   "metadata": {},
   "source": [
    "## Hyperparameters\n",
    "Load results of hyperparameter search"
   ]
  },
  {
   "cell_type": "code",
   "execution_count": 4,
   "id": "f433577a-9572-4d41-86bd-49344c226e52",
   "metadata": {},
   "outputs": [],
   "source": [
    "# Study object to optimize objective_hyperparam function\n",
    "study_bag = joblib.load(\"data/study_bagging_00.pkl\")\n",
    "study_boost = joblib.load(\"data/study_boost_00.pkl\")"
   ]
  },
  {
   "cell_type": "code",
   "execution_count": 5,
   "id": "01a089e3-79ea-43de-89ec-95cf7a3fe4ab",
   "metadata": {},
   "outputs": [
    {
     "name": "stdout",
     "output_type": "stream",
     "text": [
      "{'n_estimators': 140, 'max_depth': 17, 'max_features': 'sqrt', 'max_samples': 0.75} \n",
      " {'n_estimators': 300, 'eta': 0.03, 'max_depth': 13, 'min_child_weight': 0.6, 'colsample_bytree': 0.6, 'subsample': 0.6}\n"
     ]
    }
   ],
   "source": [
    "print(study_bag.best_params, \"\\n\",study_boost.best_params)"
   ]
  },
  {
   "cell_type": "markdown",
   "id": "f05de690-1ff3-4f1b-947f-92b091cb9729",
   "metadata": {},
   "source": [
    "## Train/Test split\n",
    "\n",
    "Last monst is test, rest is training"
   ]
  },
  {
   "cell_type": "code",
   "execution_count": 6,
   "id": "92e65d08-709c-4352-a588-f5bb968bb347",
   "metadata": {},
   "outputs": [
    {
     "name": "stdout",
     "output_type": "stream",
     "text": [
      "Test `date_block_num` is 34\n"
     ]
    }
   ],
   "source": [
    "# Save `date_block_num`, as we can't use them as features, but will need them to split the dataset into parts \n",
    "dates = data_sales['date_block_num']\n",
    "\n",
    "last_block = dates.max()\n",
    "print('Test `date_block_num` is %d' % last_block)"
   ]
  },
  {
   "cell_type": "code",
   "execution_count": 7,
   "id": "fad3fcc8-b035-4630-a487-3bdcba8517fe",
   "metadata": {},
   "outputs": [],
   "source": [
    "drop_cols = ['target']"
   ]
  },
  {
   "cell_type": "code",
   "execution_count": 8,
   "id": "f39d543c-4cf0-4998-b6ec-bf45da58ac50",
   "metadata": {},
   "outputs": [],
   "source": [
    "X_train, X_test, y_train, y_test = split_time_series(data_sales, last_block, drop_cols, start_idx=0)"
   ]
  },
  {
   "cell_type": "code",
   "execution_count": null,
   "id": "6023e79f-0740-49b9-914c-0ddc74c1c688",
   "metadata": {},
   "outputs": [],
   "source": []
  },
  {
   "cell_type": "code",
   "execution_count": 9,
   "id": "290496cf-d1ed-4acf-8c27-c9c622e4a38d",
   "metadata": {},
   "outputs": [
    {
     "data": {
      "text/plain": [
       "(10913804,)"
      ]
     },
     "execution_count": 9,
     "metadata": {},
     "output_type": "execute_result"
    }
   ],
   "source": [
    "y_train.shape"
   ]
  },
  {
   "cell_type": "code",
   "execution_count": 10,
   "id": "b7a7ca99-8f92-4746-bb93-029dfb4fe925",
   "metadata": {},
   "outputs": [
    {
     "data": {
      "text/html": [
       "<div>\n",
       "<style scoped>\n",
       "    .dataframe tbody tr th:only-of-type {\n",
       "        vertical-align: middle;\n",
       "    }\n",
       "\n",
       "    .dataframe tbody tr th {\n",
       "        vertical-align: top;\n",
       "    }\n",
       "\n",
       "    .dataframe thead th {\n",
       "        text-align: right;\n",
       "    }\n",
       "</style>\n",
       "<table border=\"1\" class=\"dataframe\">\n",
       "  <thead>\n",
       "    <tr style=\"text-align: right;\">\n",
       "      <th></th>\n",
       "      <th>date_block_num</th>\n",
       "      <th>shop_id</th>\n",
       "      <th>item_id</th>\n",
       "      <th>item_category_id</th>\n",
       "      <th>name2</th>\n",
       "      <th>name3</th>\n",
       "      <th>city</th>\n",
       "      <th>type</th>\n",
       "      <th>subtype</th>\n",
       "      <th>target_lag_1</th>\n",
       "      <th>target_lag_2</th>\n",
       "      <th>target_lag_3</th>\n",
       "      <th>target_lag_6</th>\n",
       "      <th>target_lag_12</th>\n",
       "      <th>target_mean_month_lag_1</th>\n",
       "      <th>target_mean_month_lag_2</th>\n",
       "      <th>target_mean_month_lag_3</th>\n",
       "      <th>target_mean_month_lag_6</th>\n",
       "      <th>target_mean_month_lag_12</th>\n",
       "      <th>target_shop_mean_lag_1</th>\n",
       "      <th>target_shop_mean_lag_2</th>\n",
       "      <th>target_shop_mean_lag_3</th>\n",
       "      <th>target_shop_mean_lag_12</th>\n",
       "      <th>target_category_mean_lag_1</th>\n",
       "      <th>target_category_mean_lag_2</th>\n",
       "      <th>target_category_mean_lag_3</th>\n",
       "      <th>target_category_mean_lag_12</th>\n",
       "      <th>target_item_mean_lag_1</th>\n",
       "      <th>target_item_mean_lag_2</th>\n",
       "      <th>target_item_mean_lag_3</th>\n",
       "      <th>target_city_mean_lag_1</th>\n",
       "      <th>target_city_mean_lag_2</th>\n",
       "      <th>target_type_mean_lag_1</th>\n",
       "      <th>month</th>\n",
       "      <th>days</th>\n",
       "      <th>weekends</th>\n",
       "      <th>price_fluct_lag</th>\n",
       "    </tr>\n",
       "  </thead>\n",
       "  <tbody>\n",
       "    <tr>\n",
       "      <th>10913804</th>\n",
       "      <td>34</td>\n",
       "      <td>5</td>\n",
       "      <td>5037</td>\n",
       "      <td>19</td>\n",
       "      <td>89</td>\n",
       "      <td>42</td>\n",
       "      <td>3</td>\n",
       "      <td>5</td>\n",
       "      <td>10</td>\n",
       "      <td>0.0</td>\n",
       "      <td>1.0</td>\n",
       "      <td>3.0</td>\n",
       "      <td>1.0</td>\n",
       "      <td>1.0</td>\n",
       "      <td>0.258565</td>\n",
       "      <td>0.263758</td>\n",
       "      <td>0.287989</td>\n",
       "      <td>0.259542</td>\n",
       "      <td>0.311307</td>\n",
       "      <td>0.190098</td>\n",
       "      <td>0.2059</td>\n",
       "      <td>0.245106</td>\n",
       "      <td>0.206106</td>\n",
       "      <td>0.379047</td>\n",
       "      <td>0.566824</td>\n",
       "      <td>0.673160</td>\n",
       "      <td>0.617857</td>\n",
       "      <td>0.568182</td>\n",
       "      <td>2.511628</td>\n",
       "      <td>2.833333</td>\n",
       "      <td>0.190098</td>\n",
       "      <td>0.2059</td>\n",
       "      <td>0.494105</td>\n",
       "      <td>10</td>\n",
       "      <td>30</td>\n",
       "      <td>10</td>\n",
       "      <td>-0.222046</td>\n",
       "    </tr>\n",
       "    <tr>\n",
       "      <th>10913805</th>\n",
       "      <td>34</td>\n",
       "      <td>5</td>\n",
       "      <td>5320</td>\n",
       "      <td>55</td>\n",
       "      <td>4</td>\n",
       "      <td>42</td>\n",
       "      <td>3</td>\n",
       "      <td>13</td>\n",
       "      <td>2</td>\n",
       "      <td>NaN</td>\n",
       "      <td>NaN</td>\n",
       "      <td>NaN</td>\n",
       "      <td>NaN</td>\n",
       "      <td>NaN</td>\n",
       "      <td>NaN</td>\n",
       "      <td>NaN</td>\n",
       "      <td>NaN</td>\n",
       "      <td>NaN</td>\n",
       "      <td>NaN</td>\n",
       "      <td>NaN</td>\n",
       "      <td>NaN</td>\n",
       "      <td>NaN</td>\n",
       "      <td>NaN</td>\n",
       "      <td>NaN</td>\n",
       "      <td>NaN</td>\n",
       "      <td>NaN</td>\n",
       "      <td>NaN</td>\n",
       "      <td>NaN</td>\n",
       "      <td>NaN</td>\n",
       "      <td>NaN</td>\n",
       "      <td>NaN</td>\n",
       "      <td>NaN</td>\n",
       "      <td>NaN</td>\n",
       "      <td>10</td>\n",
       "      <td>30</td>\n",
       "      <td>10</td>\n",
       "      <td>0.000000</td>\n",
       "    </tr>\n",
       "    <tr>\n",
       "      <th>10913806</th>\n",
       "      <td>34</td>\n",
       "      <td>5</td>\n",
       "      <td>5233</td>\n",
       "      <td>19</td>\n",
       "      <td>76</td>\n",
       "      <td>701</td>\n",
       "      <td>3</td>\n",
       "      <td>5</td>\n",
       "      <td>10</td>\n",
       "      <td>1.0</td>\n",
       "      <td>3.0</td>\n",
       "      <td>1.0</td>\n",
       "      <td>3.0</td>\n",
       "      <td>NaN</td>\n",
       "      <td>0.258565</td>\n",
       "      <td>0.263758</td>\n",
       "      <td>0.287989</td>\n",
       "      <td>0.259542</td>\n",
       "      <td>NaN</td>\n",
       "      <td>0.190098</td>\n",
       "      <td>0.2059</td>\n",
       "      <td>0.245106</td>\n",
       "      <td>NaN</td>\n",
       "      <td>0.379047</td>\n",
       "      <td>0.566824</td>\n",
       "      <td>0.673160</td>\n",
       "      <td>NaN</td>\n",
       "      <td>0.954545</td>\n",
       "      <td>1.860465</td>\n",
       "      <td>3.571429</td>\n",
       "      <td>0.190098</td>\n",
       "      <td>0.2059</td>\n",
       "      <td>0.494105</td>\n",
       "      <td>10</td>\n",
       "      <td>30</td>\n",
       "      <td>10</td>\n",
       "      <td>0.497314</td>\n",
       "    </tr>\n",
       "    <tr>\n",
       "      <th>10913807</th>\n",
       "      <td>34</td>\n",
       "      <td>5</td>\n",
       "      <td>5232</td>\n",
       "      <td>23</td>\n",
       "      <td>123</td>\n",
       "      <td>617</td>\n",
       "      <td>3</td>\n",
       "      <td>5</td>\n",
       "      <td>16</td>\n",
       "      <td>0.0</td>\n",
       "      <td>0.0</td>\n",
       "      <td>1.0</td>\n",
       "      <td>NaN</td>\n",
       "      <td>NaN</td>\n",
       "      <td>0.258565</td>\n",
       "      <td>0.263758</td>\n",
       "      <td>0.287989</td>\n",
       "      <td>NaN</td>\n",
       "      <td>NaN</td>\n",
       "      <td>0.190098</td>\n",
       "      <td>0.2059</td>\n",
       "      <td>0.245106</td>\n",
       "      <td>NaN</td>\n",
       "      <td>0.337353</td>\n",
       "      <td>0.570423</td>\n",
       "      <td>0.555861</td>\n",
       "      <td>NaN</td>\n",
       "      <td>0.636364</td>\n",
       "      <td>1.116279</td>\n",
       "      <td>1.547619</td>\n",
       "      <td>0.190098</td>\n",
       "      <td>0.2059</td>\n",
       "      <td>0.494105</td>\n",
       "      <td>10</td>\n",
       "      <td>30</td>\n",
       "      <td>10</td>\n",
       "      <td>0.505859</td>\n",
       "    </tr>\n",
       "    <tr>\n",
       "      <th>10913808</th>\n",
       "      <td>34</td>\n",
       "      <td>5</td>\n",
       "      <td>5268</td>\n",
       "      <td>20</td>\n",
       "      <td>94</td>\n",
       "      <td>42</td>\n",
       "      <td>3</td>\n",
       "      <td>5</td>\n",
       "      <td>11</td>\n",
       "      <td>NaN</td>\n",
       "      <td>NaN</td>\n",
       "      <td>NaN</td>\n",
       "      <td>NaN</td>\n",
       "      <td>NaN</td>\n",
       "      <td>NaN</td>\n",
       "      <td>NaN</td>\n",
       "      <td>NaN</td>\n",
       "      <td>NaN</td>\n",
       "      <td>NaN</td>\n",
       "      <td>NaN</td>\n",
       "      <td>NaN</td>\n",
       "      <td>NaN</td>\n",
       "      <td>NaN</td>\n",
       "      <td>NaN</td>\n",
       "      <td>NaN</td>\n",
       "      <td>NaN</td>\n",
       "      <td>NaN</td>\n",
       "      <td>NaN</td>\n",
       "      <td>NaN</td>\n",
       "      <td>NaN</td>\n",
       "      <td>NaN</td>\n",
       "      <td>NaN</td>\n",
       "      <td>NaN</td>\n",
       "      <td>10</td>\n",
       "      <td>30</td>\n",
       "      <td>10</td>\n",
       "      <td>0.000000</td>\n",
       "    </tr>\n",
       "  </tbody>\n",
       "</table>\n",
       "</div>"
      ],
      "text/plain": [
       "          date_block_num  shop_id  item_id  item_category_id  name2  name3  \\\n",
       "10913804              34        5     5037                19     89     42   \n",
       "10913805              34        5     5320                55      4     42   \n",
       "10913806              34        5     5233                19     76    701   \n",
       "10913807              34        5     5232                23    123    617   \n",
       "10913808              34        5     5268                20     94     42   \n",
       "\n",
       "          city  type  subtype  target_lag_1  target_lag_2  target_lag_3  \\\n",
       "10913804     3     5       10           0.0           1.0           3.0   \n",
       "10913805     3    13        2           NaN           NaN           NaN   \n",
       "10913806     3     5       10           1.0           3.0           1.0   \n",
       "10913807     3     5       16           0.0           0.0           1.0   \n",
       "10913808     3     5       11           NaN           NaN           NaN   \n",
       "\n",
       "          target_lag_6  target_lag_12  target_mean_month_lag_1  \\\n",
       "10913804           1.0            1.0                 0.258565   \n",
       "10913805           NaN            NaN                      NaN   \n",
       "10913806           3.0            NaN                 0.258565   \n",
       "10913807           NaN            NaN                 0.258565   \n",
       "10913808           NaN            NaN                      NaN   \n",
       "\n",
       "          target_mean_month_lag_2  target_mean_month_lag_3  \\\n",
       "10913804                 0.263758                 0.287989   \n",
       "10913805                      NaN                      NaN   \n",
       "10913806                 0.263758                 0.287989   \n",
       "10913807                 0.263758                 0.287989   \n",
       "10913808                      NaN                      NaN   \n",
       "\n",
       "          target_mean_month_lag_6  target_mean_month_lag_12  \\\n",
       "10913804                 0.259542                  0.311307   \n",
       "10913805                      NaN                       NaN   \n",
       "10913806                 0.259542                       NaN   \n",
       "10913807                      NaN                       NaN   \n",
       "10913808                      NaN                       NaN   \n",
       "\n",
       "          target_shop_mean_lag_1  target_shop_mean_lag_2  \\\n",
       "10913804                0.190098                  0.2059   \n",
       "10913805                     NaN                     NaN   \n",
       "10913806                0.190098                  0.2059   \n",
       "10913807                0.190098                  0.2059   \n",
       "10913808                     NaN                     NaN   \n",
       "\n",
       "          target_shop_mean_lag_3  target_shop_mean_lag_12  \\\n",
       "10913804                0.245106                 0.206106   \n",
       "10913805                     NaN                      NaN   \n",
       "10913806                0.245106                      NaN   \n",
       "10913807                0.245106                      NaN   \n",
       "10913808                     NaN                      NaN   \n",
       "\n",
       "          target_category_mean_lag_1  target_category_mean_lag_2  \\\n",
       "10913804                    0.379047                    0.566824   \n",
       "10913805                         NaN                         NaN   \n",
       "10913806                    0.379047                    0.566824   \n",
       "10913807                    0.337353                    0.570423   \n",
       "10913808                         NaN                         NaN   \n",
       "\n",
       "          target_category_mean_lag_3  target_category_mean_lag_12  \\\n",
       "10913804                    0.673160                     0.617857   \n",
       "10913805                         NaN                          NaN   \n",
       "10913806                    0.673160                          NaN   \n",
       "10913807                    0.555861                          NaN   \n",
       "10913808                         NaN                          NaN   \n",
       "\n",
       "          target_item_mean_lag_1  target_item_mean_lag_2  \\\n",
       "10913804                0.568182                2.511628   \n",
       "10913805                     NaN                     NaN   \n",
       "10913806                0.954545                1.860465   \n",
       "10913807                0.636364                1.116279   \n",
       "10913808                     NaN                     NaN   \n",
       "\n",
       "          target_item_mean_lag_3  target_city_mean_lag_1  \\\n",
       "10913804                2.833333                0.190098   \n",
       "10913805                     NaN                     NaN   \n",
       "10913806                3.571429                0.190098   \n",
       "10913807                1.547619                0.190098   \n",
       "10913808                     NaN                     NaN   \n",
       "\n",
       "          target_city_mean_lag_2  target_type_mean_lag_1  month  days  \\\n",
       "10913804                  0.2059                0.494105     10    30   \n",
       "10913805                     NaN                     NaN     10    30   \n",
       "10913806                  0.2059                0.494105     10    30   \n",
       "10913807                  0.2059                0.494105     10    30   \n",
       "10913808                     NaN                     NaN     10    30   \n",
       "\n",
       "          weekends  price_fluct_lag  \n",
       "10913804        10        -0.222046  \n",
       "10913805        10         0.000000  \n",
       "10913806        10         0.497314  \n",
       "10913807        10         0.505859  \n",
       "10913808        10         0.000000  "
      ]
     },
     "execution_count": 10,
     "metadata": {},
     "output_type": "execute_result"
    }
   ],
   "source": [
    "X_test.head()"
   ]
  },
  {
   "cell_type": "markdown",
   "id": "f6973e68-39f2-4481-aeee-e634c4e87355",
   "metadata": {},
   "source": [
    "## First Level Models"
   ]
  },
  {
   "cell_type": "markdown",
   "id": "bc00cf43-a529-4af0-964f-f3a376bbf320",
   "metadata": {},
   "source": [
    "Stacking Scheme: \n",
    "- Use training data until date block num between 29 and 4, to train 1st level model\n",
    "- Use training data with date_block_num $\\in  \\{29, 30, 31, 32, 33 \\}$ to extract 2nd level metafeature and train 2nd level model on these meta features\n",
    "- Finally, Apply entire stacked model to test data with block_date_num=34\n",
    "\n",
    "**Note:** The split of data respects the time ordering. Namely, 1st level models are obtained from training on date blocks $\\{5,6, ..., 28 \\}$ and 2nd level models are from date blocks $ \\in \\{ 29, 30, 31, 32, 33 \\} $. This is because we want our model ensembling to be able to adapt to prediction which has the latest time component"
   ]
  },
  {
   "cell_type": "code",
   "execution_count": 11,
   "id": "9afdd8b2-8326-47c5-9b28-098cc25688a0",
   "metadata": {},
   "outputs": [
    {
     "data": {
      "text/plain": [
       "140"
      ]
     },
     "execution_count": 11,
     "metadata": {},
     "output_type": "execute_result"
    }
   ],
   "source": [
    "study_bag.best_params['n_estimators']"
   ]
  },
  {
   "cell_type": "code",
   "execution_count": 12,
   "id": "c5fe1246-fc8c-4b74-8fcf-444343ca4352",
   "metadata": {},
   "outputs": [],
   "source": [
    "# Initialize the 1st Level models\n",
    "model_lr = LinearRegression()\n",
    "\n",
    "\n",
    "lgb_params = {\n",
    "               'feature_fraction': 0.75,\n",
    "               'metric': 'rmse',\n",
    "                'max_depth': 9,\n",
    "               'nthread':4, \n",
    "               'min_data_in_leaf': 2**7, \n",
    "               'bagging_fraction': 0.75, \n",
    "               'learning_rate': 0.03, \n",
    "               'objective': 'mse', \n",
    "               'bagging_seed': 2**7, \n",
    "               'num_leaves': 2**7,\n",
    "               'bagging_freq':1,\n",
    "               'verbose':-1\n",
    "    \n",
    "              }\n",
    "model_lgb = lgb.LGBMRegressor(**lgb_params)\n",
    "\n",
    "model_rf = RandomForestRegressor(\n",
    "                n_estimators = study_bag.best_params['n_estimators'],\n",
    "                max_depth = 9,\n",
    "                max_features = study_bag.best_params['max_features'],\n",
    "                max_samples = study_bag.best_params['max_samples'],\n",
    "                random_state = 42,\n",
    "                n_jobs=4,\n",
    "                )"
   ]
  },
  {
   "cell_type": "code",
   "execution_count": 13,
   "id": "04d00e1f-e74e-4731-841b-8f6eabac99ec",
   "metadata": {},
   "outputs": [],
   "source": [
    "dates_train_level2 = dates[dates.isin([29, 30, 31, 32, 33])]\n",
    "\n",
    "# That is how we get target for the 2nd level dataset\n",
    "y_train_level2 = data_sales.loc[dates.isin([29, 30, 31, 32, 33]), 'target']"
   ]
  },
  {
   "cell_type": "code",
   "execution_count": 14,
   "id": "ee2a351c-02d1-402f-b446-96d529147651",
   "metadata": {},
   "outputs": [
    {
     "name": "stdout",
     "output_type": "stream",
     "text": [
      "9789264\n"
     ]
    }
   ],
   "source": [
    "# This index will be useful later\n",
    "index_0 = dates_train_level2.index[dates_train_level2 == 29].values[0]\n",
    "print(index_0)"
   ]
  },
  {
   "cell_type": "code",
   "execution_count": 16,
   "id": "6bfafce1-8fcf-4789-9a2e-4f40cdce6815",
   "metadata": {},
   "outputs": [
    {
     "name": "stdout",
     "output_type": "stream",
     "text": [
      "29\n",
      "(7916544, 37) (224288, 37) (7916544,)\n",
      "[LightGBM] [Warning] num_threads is set with n_jobs=-1, nthread=4 will be ignored. Current value: num_threads=-1\n",
      "[LightGBM] [Warning] bagging_fraction is set=0.75, subsample=1.0 will be ignored. Current value: bagging_fraction=0.75\n",
      "[LightGBM] [Warning] feature_fraction is set=0.75, colsample_bytree=1.0 will be ignored. Current value: feature_fraction=0.75\n",
      "[LightGBM] [Warning] min_data_in_leaf is set=128, min_child_samples=20 will be ignored. Current value: min_data_in_leaf=128\n",
      "[LightGBM] [Warning] bagging_freq is set=1, subsample_freq=0 will be ignored. Current value: bagging_freq=1\n",
      "Started training Random Forest\n",
      "30\n",
      "(7750844, 37) (228889, 37) (7750844,)\n",
      "[LightGBM] [Warning] num_threads is set with n_jobs=-1, nthread=4 will be ignored. Current value: num_threads=-1\n",
      "[LightGBM] [Warning] bagging_fraction is set=0.75, subsample=1.0 will be ignored. Current value: bagging_fraction=0.75\n",
      "[LightGBM] [Warning] feature_fraction is set=0.75, colsample_bytree=1.0 will be ignored. Current value: feature_fraction=0.75\n",
      "[LightGBM] [Warning] min_data_in_leaf is set=128, min_child_samples=20 will be ignored. Current value: min_data_in_leaf=128\n",
      "[LightGBM] [Warning] bagging_freq is set=1, subsample_freq=0 will be ignored. Current value: bagging_freq=1\n",
      "Started training Random Forest\n",
      "31\n",
      "(7593103, 37) (214536, 37) (7593103,)\n",
      "[LightGBM] [Warning] num_threads is set with n_jobs=-1, nthread=4 will be ignored. Current value: num_threads=-1\n",
      "[LightGBM] [Warning] bagging_fraction is set=0.75, subsample=1.0 will be ignored. Current value: bagging_fraction=0.75\n",
      "[LightGBM] [Warning] feature_fraction is set=0.75, colsample_bytree=1.0 will be ignored. Current value: feature_fraction=0.75\n",
      "[LightGBM] [Warning] min_data_in_leaf is set=128, min_child_samples=20 will be ignored. Current value: min_data_in_leaf=128\n",
      "[LightGBM] [Warning] bagging_freq is set=1, subsample_freq=0 will be ignored. Current value: bagging_freq=1\n",
      "Started training Random Forest\n",
      "32\n",
      "(7446244, 37) (218655, 37) (7446244,)\n",
      "[LightGBM] [Warning] num_threads is set with n_jobs=-1, nthread=4 will be ignored. Current value: num_threads=-1\n",
      "[LightGBM] [Warning] bagging_fraction is set=0.75, subsample=1.0 will be ignored. Current value: bagging_fraction=0.75\n",
      "[LightGBM] [Warning] feature_fraction is set=0.75, colsample_bytree=1.0 will be ignored. Current value: feature_fraction=0.75\n",
      "[LightGBM] [Warning] min_data_in_leaf is set=128, min_child_samples=20 will be ignored. Current value: min_data_in_leaf=128\n",
      "[LightGBM] [Warning] bagging_freq is set=1, subsample_freq=0 will be ignored. Current value: bagging_freq=1\n",
      "Started training Random Forest\n",
      "33\n",
      "(7310479, 37) (238172, 37) (7310479,)\n",
      "[LightGBM] [Warning] num_threads is set with n_jobs=-1, nthread=4 will be ignored. Current value: num_threads=-1\n",
      "[LightGBM] [Warning] bagging_fraction is set=0.75, subsample=1.0 will be ignored. Current value: bagging_fraction=0.75\n",
      "[LightGBM] [Warning] feature_fraction is set=0.75, colsample_bytree=1.0 will be ignored. Current value: feature_fraction=0.75\n",
      "[LightGBM] [Warning] min_data_in_leaf is set=128, min_child_samples=20 will be ignored. Current value: min_data_in_leaf=128\n",
      "[LightGBM] [Warning] bagging_freq is set=1, subsample_freq=0 will be ignored. Current value: bagging_freq=1\n",
      "Started training Random Forest\n"
     ]
    }
   ],
   "source": [
    "# And here we create 2nd level feeature matrix, init it with zeros first\n",
    "X_train_level2 = np.zeros([y_train_level2.shape[0], 3])\n",
    "\n",
    "# Now fill `X_train_level2` with meta-features\n",
    "for cur_block_num in [29, 30, 31, 32, 33]:\n",
    "    \n",
    "    print(cur_block_num)\n",
    "\n",
    "    # Training for the 1st level model\n",
    "    X_train, X_test, y_train, y_test = split_time_series(data_sales, cur_block_num, drop_cols, start_idx=cur_block_num-24)\n",
    "    print(X_train.shape, X_test.shape, y_train.shape)\n",
    "    # Normalize the data, needed for linear regression, not necessarily for tree-based models\n",
    "    # Apply min-max normalization\n",
    "    scaler = MinMaxScaler().fit(X_train)\n",
    "    X_train = scaler.transform(X_train)\n",
    "    X_test = scaler.transform(X_test)\n",
    "    \n",
    "    \n",
    "    # 1st Level Boosted tree from LGB\n",
    "    # model_lgb = gbm.train(lgb_params, lgb.Dataset(X_train, label=y_train), 100)\n",
    "    model_lgb.fit(X_train, y_train,\n",
    "                    eval_set=[(X_test, y_test)],\n",
    "                    eval_metric='l2',\n",
    "                    callbacks=[lgb.early_stopping(stopping_rounds=12, verbose=False)])\n",
    "    pred_lgb = model_lgb.predict(X_test)\n",
    "    \n",
    "    \n",
    "    # Needed for LR, and RF which cant handle NaN values\n",
    "    train_median = np.nanmedian(X_train, axis=0)\n",
    "    test_median = np.nanmedian(X_test, axis=0)\n",
    "    train_idx = np.where(np.isnan(X_train))\n",
    "    test_idx = np.where(np.isnan(X_test))\n",
    "    \n",
    "    #Place column means in the indices. Align the arrays using take\n",
    "    X_train[train_idx] = np.take(train_median, train_idx[1])\n",
    "    X_test[test_idx] = np.take(test_median, test_idx[1])\n",
    "    \n",
    "    # 1st Level Linear Regression\n",
    "    model_lr.fit(X_train, y_train)\n",
    "    pred_lr = model_lr.predict(X_test)\n",
    "    \n",
    "    print(\"Started training Random Forest\")\n",
    "    \n",
    "    # 1st Level Random Forest Tree from Sklearn\n",
    "    model_rf.fit(X_train, y_train)\n",
    "    pred_rf = model_rf.predict(X_test)\n",
    "    \n",
    "    indexes = dates_train_level2.index[dates_train_level2 == cur_block_num]\n",
    "    \n",
    "    # Predictions from 1st level model = Meta features of 2nd level model\n",
    "    for i in range(pred_lgb.shape[0]):\n",
    "        X_train_level2[indexes[i] - index_0] = [pred_lr[i], pred_lgb[i], pred_rf[i]]\n",
    "        \n"
   ]
  },
  {
   "cell_type": "markdown",
   "id": "dc056b97-bd8c-407a-8740-8d6301e3f080",
   "metadata": {},
   "source": [
    "Remember, the ensembles work best, when first level models are diverse. We can qualitatively analyze the diversity by examinig *scatter plot* between the two metafeatures. Plot the scatter plot below. "
   ]
  },
  {
   "cell_type": "code",
   "execution_count": 23,
   "id": "0a91c420-4a53-4773-a6ca-63b7a4737f38",
   "metadata": {},
   "outputs": [
    {
     "data": {
      "image/png": "[encoded data removed]",
      "text/plain": [
       "<Figure size 1080x360 with 3 Axes>"
      ]
     },
     "metadata": {
      "needs_background": "light"
     },
     "output_type": "display_data"
    }
   ],
   "source": [
    "import matplotlib.pyplot as plt\n",
    "\n",
    "\n",
    "fig, axs = plt.subplots(1, 3, figsize=(15, 5), sharey=True)\n",
    "axs[0].scatter(X_train_level2[:,0], X_train_level2[:,1], s=0.8)\n",
    "axs[1].scatter(X_train_level2[:,0], X_train_level2[:,2], s=0.8)\n",
    "axs[2].scatter(X_train_level2[:,1], X_train_level2[:,2], s=0.8)\n",
    "fig.suptitle('Meta Features Produced by 1st Level Models')\n",
    "plt.show()"
   ]
  },
  {
   "cell_type": "code",
   "execution_count": 26,
   "id": "13bd5858-d264-4f54-a805-7e184a64222e",
   "metadata": {},
   "outputs": [
    {
     "name": "stdout",
     "output_type": "stream",
     "text": [
      "(1124540, 3) (1124540,)\n"
     ]
    }
   ],
   "source": [
    "print(X_train_level2.shape, y_train_level2.shape)"
   ]
  },
  {
   "cell_type": "markdown",
   "id": "36c0c203-7add-44d2-b9f7-7aa7b8446310",
   "metadata": {},
   "source": [
    "## Ensembling"
   ]
  },
  {
   "cell_type": "markdown",
   "id": "6e1d898c-20d4-4289-b6b0-b68398ee3d47",
   "metadata": {},
   "source": [
    "Now that we created the meta features, we are ready to ensemble our first level models.\n",
    "I tried random forest as the level 2 model since data for level2 models is around, big enough for RF."
   ]
  },
  {
   "cell_type": "code",
   "execution_count": 64,
   "id": "fec64a83-78d1-4438-a121-cdd021054fe8",
   "metadata": {},
   "outputs": [
    {
     "data": {
      "text/plain": [
       "LinearRegression()"
      ]
     },
     "execution_count": 64,
     "metadata": {},
     "output_type": "execute_result"
    }
   ],
   "source": [
    "# Level 2 Linear Regression\n",
    "\n",
    "model_lr_level2 = LinearRegression()\n",
    "\n",
    "model_lr_level2.fit(X_train_level2, y_train_level2)"
   ]
  },
  {
   "cell_type": "markdown",
   "id": "5b827571-1dc3-4ead-8514-6ee402bcdc19",
   "metadata": {},
   "source": [
    "## Inference"
   ]
  },
  {
   "cell_type": "markdown",
   "id": "bfa63398-57e9-4308-b160-bf77e52fe217",
   "metadata": {},
   "source": [
    "After training fully stack model, we need to create metafeatures for the test data"
   ]
  },
  {
   "cell_type": "code",
   "execution_count": 65,
   "id": "19ff492a-ed46-4252-b89a-a6031b56e254",
   "metadata": {},
   "outputs": [],
   "source": [
    "cur_block_num = 34\n",
    "_, X_test, _, y_test = split_time_series(data_sales, cur_block_num, drop_cols, start_idx=cur_block_num-24)"
   ]
  },
  {
   "cell_type": "code",
   "execution_count": 66,
   "id": "e76e223f-6ff1-4595-8fe8-afaeec53c1e4",
   "metadata": {},
   "outputs": [
    {
     "data": {
      "text/plain": [
       "(214200, 37)"
      ]
     },
     "execution_count": 66,
     "metadata": {},
     "output_type": "execute_result"
    }
   ],
   "source": [
    "X_test.shape"
   ]
  },
  {
   "cell_type": "code",
   "execution_count": 67,
   "id": "a81ffa9e-dcf3-4df4-8e34-37d7bc1761c3",
   "metadata": {},
   "outputs": [
    {
     "name": "stdout",
     "output_type": "stream",
     "text": [
      "10913804\n"
     ]
    }
   ],
   "source": [
    "dates_test_level2 = dates[dates.isin([34])]\n",
    "# This index will be useful later\n",
    "index_0 = dates_test_level2.index.values[0]\n",
    "print(index_0)"
   ]
  },
  {
   "cell_type": "code",
   "execution_count": 68,
   "id": "d07aac50-14f8-4a89-903b-d982cb8130a1",
   "metadata": {},
   "outputs": [
    {
     "data": {
      "text/plain": [
       "10913804"
      ]
     },
     "execution_count": 68,
     "metadata": {},
     "output_type": "execute_result"
    }
   ],
   "source": [
    "dates_test_level2.index.values[0]"
   ]
  },
  {
   "cell_type": "code",
   "execution_count": 69,
   "id": "9a2baa25-b054-46c8-bc81-b5669d8be05c",
   "metadata": {},
   "outputs": [
    {
     "data": {
      "text/plain": [
       "(214200, 3)"
      ]
     },
     "execution_count": 69,
     "metadata": {},
     "output_type": "execute_result"
    }
   ],
   "source": [
    "# And here we create 2nd level feeature matrix, init it with zeros first\n",
    "X_test_level2 = np.zeros([y_test.shape[0], 3])\n",
    "\n",
    "X_test_level2.shape"
   ]
  },
  {
   "cell_type": "code",
   "execution_count": 70,
   "id": "c5888049-3636-4412-b055-c878c0755e3d",
   "metadata": {},
   "outputs": [
    {
     "data": {
      "text/plain": [
       "10913804"
      ]
     },
     "execution_count": 70,
     "metadata": {},
     "output_type": "execute_result"
    }
   ],
   "source": [
    "dates_test_level2.index.values[0]"
   ]
  },
  {
   "cell_type": "code",
   "execution_count": 71,
   "id": "16e93fe8-0939-4b04-8c26-47bc705b6862",
   "metadata": {},
   "outputs": [
    {
     "name": "stdout",
     "output_type": "stream",
     "text": [
      "34\n"
     ]
    }
   ],
   "source": [
    "\n",
    "\n",
    "# Now fill `X_test_level2` with meta-features\n",
    "for cur_block_num in [34]:\n",
    "    \n",
    "    print(cur_block_num)\n",
    "    \n",
    "    # 1st Level Boosted tree from LGB\n",
    "    pred_lgb = model_lgb.predict(X_test)\n",
    "    \n",
    "    # Normalize the data, needed for linear regression, not necessary for tree-based models\n",
    "    # Apply min-max normalization\n",
    "    X_test = scaler.transform(X_test)\n",
    "    \n",
    "    # Needed for LR, and RF which cant handle NaN values\n",
    "    test_median = np.nanmedian(X_test, axis=0)\n",
    "    test_idx = np.where(np.isnan(X_test))\n",
    "    \n",
    "    #Place column means in the indices. Align the arrays using take\n",
    "    X_test[test_idx] = np.take(test_median, test_idx[1])\n",
    "\n",
    "    # 1st Level Linear Regression\n",
    "    pred_lr = model_lr.predict(X_test)\n",
    "    \n",
    "    # 1st Level Random Forest Tree from Sklearn\n",
    "    pred_rf = model_rf.predict(X_test)\n",
    "    \n",
    "    indexes = dates_test_level2.index\n",
    "    \n",
    "    # Predictions from 1st level model = Meta features of 2nd level model\n",
    "    for i in range(pred_lgb.shape[0]):\n",
    "        X_test_level2[indexes[i] - index_0] = [pred_lr[i], pred_lgb[i], pred_rf[i]] \n",
    "        "
   ]
  },
  {
   "cell_type": "code",
   "execution_count": 72,
   "id": "cc36f4a6-3475-4798-a8e0-76bcda043f61",
   "metadata": {},
   "outputs": [
    {
     "data": {
      "text/plain": [
       "((214200,), (214200, 37))"
      ]
     },
     "execution_count": 72,
     "metadata": {},
     "output_type": "execute_result"
    }
   ],
   "source": [
    "yhat_test = model_rf_level_2.predict(X_test_level2).clip(0,20)\n",
    "ids = np.arange(0, X_test.shape[0],1)\n",
    "ids.shape, X_test.shape"
   ]
  },
  {
   "cell_type": "code",
   "execution_count": 73,
   "id": "48290df1-a1b8-47ad-9b43-52fd7f71a833",
   "metadata": {},
   "outputs": [],
   "source": [
    "# write the prediction to submission_mert_kurttutan.csv\n",
    "with open('submission_mert_kurttutan_stacking_01.csv', 'w') as file:\n",
    "  file.write(\"ID,item_cnt_month\\n\")\n",
    "  for i in range(X_test.shape[0]):\n",
    "    file.write(f\"{i},{yhat_test[i]}\\n\")"
   ]
  },
  {
   "cell_type": "code",
   "execution_count": null,
   "id": "162c136e-3e72-4f83-87b6-b864f81b7a0d",
   "metadata": {},
   "outputs": [],
   "source": []
  }
 ],
 "metadata": {
  "kernelspec": {
   "display_name": "Python 3 (ipykernel)",
   "language": "python",
   "name": "python3"
  },
  "language_info": {
   "codemirror_mode": {
    "name": "ipython",
    "version": 3
   },
   "file_extension": ".py",
   "mimetype": "text/x-python",
   "name": "python",
   "nbconvert_exporter": "python",
   "pygments_lexer": "ipython3",
   "version": "3.9.7"
  }
 },
 "nbformat": 4,
 "nbformat_minor": 5
}
